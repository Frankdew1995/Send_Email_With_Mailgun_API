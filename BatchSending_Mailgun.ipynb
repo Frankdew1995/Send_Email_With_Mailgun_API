{
 "cells": [
  {
   "cell_type": "markdown",
   "metadata": {
    "collapsed": true
   },
   "source": [
    "# Batch Sending With Mailgun API\n",
    "\n",
    "\n",
    "\n",
    "Step 1: create a mailing list in mailgun [dashboard](https://app.mailgun.com/app/lists):\n",
    "\n",
    "1. You can upload a csv file to bulk upload to create a mailing list\n",
    "2. Or add one recipient at a time to create a mailing list. \n",
    "\n",
    "\n",
    "Imagine you created a mailing list: **no-reply@yourdomain.com**\n"
   ]
  },
  {
   "cell_type": "markdown",
   "metadata": {
    "collapsed": true
   },
   "source": [
    "## How to proceed with coding:"
   ]
  },
  {
   "cell_type": "markdown",
   "metadata": {},
   "source": [
    "#### A. Send a general email without a custom greeting using Mailgun Mailing List"
   ]
  },
  {
   "cell_type": "code",
   "execution_count": null,
   "metadata": {
    "collapsed": true
   },
   "outputs": [],
   "source": [
    "import requests"
   ]
  },
  {
   "cell_type": "code",
   "execution_count": null,
   "metadata": {
    "collapsed": true
   },
   "outputs": [],
   "source": [
    "def batch_mailing():\n",
    "    \n",
    "    requests.post(\n",
    "        \n",
    "        \"https://api.mailgun.net/v3/yourdomain/messages\",\n",
    "        auth=(\"api\", \"your-api\"), \n",
    "        data = {\n",
    "            \"from\": \"you@yourdomain.com\", \n",
    "            \"to\":\"no-reply@yourdomain.com\", # this is the mailing list created in mailgun dashboard\n",
    "            \"subject\":\" Prank message for you\", \n",
    "            \"text\": '''\n",
    "                        Hello, \n",
    "                        Can you hear me? It's me again. \n",
    "                    '''})\n",
    "    \n",
    "# Run the function \n",
    "batch_mailing()"
   ]
  },
  {
   "cell_type": "markdown",
   "metadata": {},
   "source": [
    "Running above code sends the message to all the members of your mailing list created in the Mailgun dashboard **WITHOUT** disclosing each member's individual email address in the \"to\" section of the email **DESPITE** this mailing list is currently placed in the \"to\" parameter. "
   ]
  },
  {
   "cell_type": "code",
   "execution_count": null,
   "metadata": {
    "collapsed": true
   },
   "outputs": [],
   "source": []
  },
  {
   "cell_type": "markdown",
   "metadata": {},
   "source": [
    "#### B. Send a custom & personalized email via Mailgun **Template Variable**. "
   ]
  },
  {
   "cell_type": "markdown",
   "metadata": {},
   "source": [
    "The code will take very much after. The only caveat is that we need to pass a **template variable** into the text body: \n",
    "\n",
    "Find more about template variable in the [mailgun documentation page](https://documentation.mailgun.com/en/latest/user_manual.html#batch-sending)\n",
    "\n",
    "Here's how we proceed: we will pass the first name of each member from the mailing list. the template variable for first name is: **%recipient_fname%**\n",
    "\n",
    "\n"
   ]
  },
  {
   "cell_type": "code",
   "execution_count": null,
   "metadata": {
    "collapsed": true
   },
   "outputs": [],
   "source": [
    "import requests\n",
    "\n",
    "def batch_mailing():\n",
    "    \n",
    "    requests.post(\n",
    "        \n",
    "        \"https://api.mailgun.net/v3/yourdomain/messages\",\n",
    "        auth=(\"api\", \"your-api\"), \n",
    "        data = {\n",
    "            \"from\": \"you@yourdomain.com\", \n",
    "            \"to\":\"no-reply@yourdomain.com\", # this is the mailing list created in mailgun dashboard\n",
    "            \"subject\":\" Prank message for you\", \n",
    "            # passing the template variable for first name to send a custom email. \n",
    "            \"text\": '''\n",
    "                        Hello %recipient_fname%, \n",
    "                        Can you hear me? It's me again. \n",
    "                    '''})\n",
    "    \n",
    "# Run the function \n",
    "batch_mailing()"
   ]
  },
  {
   "cell_type": "markdown",
   "metadata": {},
   "source": [
    "Running above code sends a custom message that looks like:(with the person's first name in the body text.)\n",
    "\n",
    "\"Hello Frank, \n",
    "Can you hear me? It's me again. \", \n",
    "\n",
    "\"Hello Alice, \n",
    "Can you hear me? It's me again. \", \n",
    "\n",
    "........\n",
    "\n",
    "\n",
    "**\n",
    "Do not worry about how a template variable is associated with an actual member from the mailing list. This mapping gets automatically created for you by Mailgun when a mailing list created. You just have to learn how to reference them correctly. \n",
    "**"
   ]
  },
  {
   "cell_type": "code",
   "execution_count": null,
   "metadata": {
    "collapsed": true
   },
   "outputs": [],
   "source": []
  },
  {
   "cell_type": "markdown",
   "metadata": {},
   "source": [
    "#### C. Send an email **WITHOUT ** Mailgun's mailing list feature and custom greetings. "
   ]
  },
  {
   "cell_type": "markdown",
   "metadata": {},
   "source": [
    "In this case, your script will read the csv file of different recipients and send the email right up without using a mailing list. The down side of this is you lose the functionality of applying the template variables. "
   ]
  },
  {
   "cell_type": "code",
   "execution_count": 18,
   "metadata": {
    "collapsed": true
   },
   "outputs": [],
   "source": [
    "import requests\n",
    "\n",
    "# Import pandas to read the recipients csv file. \n",
    "import pandas as pd"
   ]
  },
  {
   "cell_type": "code",
   "execution_count": 19,
   "metadata": {
    "collapsed": true
   },
   "outputs": [],
   "source": [
    "# Convert the pandas Series \"Email\" to a list\n",
    "\n",
    "recipients = pd.read_csv(\"MailingList.csv\")[\"Email\"].values.tolist()"
   ]
  },
  {
   "cell_type": "code",
   "execution_count": 21,
   "metadata": {
    "collapsed": true
   },
   "outputs": [],
   "source": [
    "def batch_mailing():\n",
    "    \n",
    "    requests.post(\n",
    "        \n",
    "        \"https://api.mailgun.net/v3/your domain/messages\",\n",
    "        auth=(\"api\", \"your api key\"), \n",
    "        data = {\n",
    "            \"from\": \"you@yourdomain.com\", \n",
    "            \"to\":\"you@yourdomain\", \n",
    "            \"bcc\":recipients, \n",
    "            \"subject\":\" Prank message for you\", \n",
    "            \"text\": '''\n",
    "                    Hello, \n",
    "                    Can you hear me? It's me again. \n",
    "                    '''})\n",
    "#run the func\n",
    "batch_mailing()"
   ]
  },
  {
   "cell_type": "markdown",
   "metadata": {
    "collapsed": true
   },
   "source": [
    "In order for the above code to work, you have to **at least** pass one recipient or passing a list of recipients in \"to\", and pass your recipients' list in **bcc** so that you won't accidentally disclose all emails in the \"to\" field while sending the email. If **no** variable passed in \"to\" key, a 404 error will be throwed in this case. "
   ]
  },
  {
   "cell_type": "code",
   "execution_count": null,
   "metadata": {
    "collapsed": true
   },
   "outputs": [],
   "source": []
  }
 ],
 "metadata": {
  "kernelspec": {
   "display_name": "Python 3",
   "language": "python",
   "name": "python3"
  },
  "language_info": {
   "codemirror_mode": {
    "name": "ipython",
    "version": 3
   },
   "file_extension": ".py",
   "mimetype": "text/x-python",
   "name": "python",
   "nbconvert_exporter": "python",
   "pygments_lexer": "ipython3",
   "version": "3.6.3"
  }
 },
 "nbformat": 4,
 "nbformat_minor": 2
}
