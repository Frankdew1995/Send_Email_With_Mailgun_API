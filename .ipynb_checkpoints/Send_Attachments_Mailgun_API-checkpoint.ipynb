{
 "cells": [
  {
   "cell_type": "markdown",
   "metadata": {},
   "source": [
    "## Send attachments with Mailgun Python API"
   ]
  },
  {
   "cell_type": "code",
   "execution_count": 1,
   "metadata": {
    "collapsed": true
   },
   "outputs": [],
   "source": [
    "import requests"
   ]
  },
  {
   "cell_type": "code",
   "execution_count": 2,
   "metadata": {},
   "outputs": [],
   "source": [
    "def send_attachments():\n",
    "    \n",
    "    return requests.post(\n",
    "        \"https://api.mailgun.net/v3/yourdomain.com/messages\",\n",
    "        auth=(\"api\", \"your-api-key\"),\n",
    "        \n",
    "        # If sending several files, then pass serveral tuples in this list\n",
    "        files = [(\"attachment\", (\"happy-coffee.jpg\", \n",
    "                  open(\"coffee-cup-working-happy.jpg\", \"rb\").read()))], \n",
    "        data = {\n",
    "            \"from\": \"youremail@mail.com\", \n",
    "            \"to\":\"recipient@recipients.com\", \n",
    "            \"subject\":\"Hello, you ordered some coffee!!\", \n",
    "            \"text\": \"Hey, your coffee is here!!\"\n",
    "            })\n",
    "    \n"
   ]
  },
  {
   "cell_type": "code",
   "execution_count": 3,
   "metadata": {},
   "outputs": [
    {
     "data": {
      "text/plain": [
       "<Response [200]>"
      ]
     },
     "execution_count": 3,
     "metadata": {},
     "output_type": "execute_result"
    }
   ],
   "source": [
    "# Run the function \n",
    "send_attachments()"
   ]
  },
  {
   "cell_type": "code",
   "execution_count": null,
   "metadata": {
    "collapsed": true
   },
   "outputs": [],
   "source": []
  }
 ],
 "metadata": {
  "kernelspec": {
   "display_name": "Python 3",
   "language": "python",
   "name": "python3"
  },
  "language_info": {
   "codemirror_mode": {
    "name": "ipython",
    "version": 3
   },
   "file_extension": ".py",
   "mimetype": "text/x-python",
   "name": "python",
   "nbconvert_exporter": "python",
   "pygments_lexer": "ipython3",
   "version": "3.6.3"
  }
 },
 "nbformat": 4,
 "nbformat_minor": 2
}
